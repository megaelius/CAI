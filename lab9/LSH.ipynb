{
 "cells": [
  {
   "cell_type": "markdown",
   "metadata": {},
   "source": [
    "# Session 9 - Locality Sensitive Hashing"
   ]
  },
  {
   "cell_type": "markdown",
   "metadata": {},
   "source": [
    "In this sesion we will play with locality sensitive hashing for retrieving the closer image from a dataset of images to a given one.\n",
    "\n",
    "The dataset consists of handwritten digits [0..9]. Each one is represented as a matrix of greyscale pixels."
   ]
  },
  {
   "cell_type": "code",
   "execution_count": null,
   "metadata": {},
   "outputs": [],
   "source": [
    "import numpy as np\n",
    "\n",
    "data = np.load('images.npy')\n",
    "data[0]"
   ]
  },
  {
   "cell_type": "markdown",
   "metadata": {},
   "source": [
    "We can also plot them as images"
   ]
  },
  {
   "cell_type": "code",
   "execution_count": null,
   "metadata": {
    "scrolled": true
   },
   "outputs": [],
   "source": [
    "import matplotlib.pyplot as plt\n",
    "%matplotlib inline\n",
    "plt.imshow(data[0], cmap=plt.cm.gray, interpolation=\"lanczos\")"
   ]
  },
  {
   "cell_type": "markdown",
   "metadata": {},
   "source": [
    "You have available the implementation of a class that computes LSH for this images in the file ```lsh.py```.\n",
    "\n",
    "As an ilustration, the next cell shows an example of how to retrieve similar images to a given one using LSH for this dataset. \n",
    "\n",
    "Function ```search``` has three parameters, $k$ is the number of bytes used in the hash function, $m$ is the number of hash functions used to index the images, $i$ is the number of the image to use for the search.\n",
    "\n",
    "You can observe the time taken to retrieve the candidate images and the number of candidates as $k$ and $m$ change.\n",
    "\n",
    "The cell also shows the original image and the first of the candidate images (it does not have to be the closest one).\n",
    "\n",
    "Your can play a little bit with the parameters. \n",
    "\n",
    "Your **next task** is to read the documentation for the session and understand how the ```lsh``` class works. After that you can complete the tasks from section 4 in the documentation."
   ]
  },
  {
   "cell_type": "code",
   "execution_count": null,
   "metadata": {},
   "outputs": [],
   "source": [
    "from lsh import lsh\n",
    "\n",
    "def plot_first_image(lcand):\n",
    "    if len(lcand) != 0:\n",
    "        print(\"Hamming dist=\", np.sum(np.abs(data[i+1500]-data[list(lcand)[0]])))       \n",
    "        fig = plt.figure()\n",
    "        fig.set_figwidth(10)\n",
    "        fig.set_figheight(10)\n",
    "        sp1 = fig.add_subplot(1,2,1)\n",
    "        sp1.imshow(data[i+1500], cmap=plt.cm.gray, interpolation=\"lanczos\")\n",
    "        sp1 = fig.add_subplot(1,2,2)\n",
    "        sp1.imshow(data[list(lcand)[0]], cmap=plt.cm.gray, interpolation=\"lanczos\")\n",
    "        plt.show()\n",
    "\n",
    "def search(k, m, i):\n",
    "    \"\"\"\n",
    "    Returns a list of candidates for image i using k bits and m hash funcions\n",
    "    \"\"\"\n",
    "    if i + 1500 < data.shape[0]:\n",
    "        me = lsh(k, m)\n",
    "        im = me.data[i+1500]\n",
    "        cands = me.candidates(im)\n",
    "        print (\"there are %4d candidates for image %4d\" % (len(cands), i))\n",
    "        return(cands)"
   ]
  },
  {
   "cell_type": "code",
   "execution_count": null,
   "metadata": {},
   "outputs": [],
   "source": [
    "i=1 # The number of image to do the search\n",
    "%time lcand = search(20,5,i)\n",
    "\n",
    "plot_first_image(lcand)"
   ]
  },
  {
   "cell_type": "code",
   "execution_count": null,
   "metadata": {},
   "outputs": [],
   "source": [
    "%time lcand = search(20,15,i)\n",
    "\n",
    "plot_first_image(lcand)"
   ]
  },
  {
   "cell_type": "code",
   "execution_count": null,
   "metadata": {},
   "outputs": [],
   "source": [
    "%time lcand = search(40,5,i)\n",
    "\n",
    "plot_first_image(lcand)"
   ]
  },
  {
   "cell_type": "code",
   "execution_count": null,
   "metadata": {},
   "outputs": [],
   "source": [
    "%time lcand = search(40,15,i)\n",
    "\n",
    "plot_first_image(lcand)"
   ]
  },
  {
   "cell_type": "code",
   "execution_count": null,
   "metadata": {},
   "outputs": [],
   "source": []
  }
 ],
 "metadata": {
  "kernelspec": {
   "display_name": "Python 3",
   "language": "python",
   "name": "python3"
  },
  "language_info": {
   "codemirror_mode": {
    "name": "ipython",
    "version": 3
   },
   "file_extension": ".py",
   "mimetype": "text/x-python",
   "name": "python",
   "nbconvert_exporter": "python",
   "pygments_lexer": "ipython3",
   "version": "3.6.10"
  },
  "latex_envs": {
   "LaTeX_envs_menu_present": true,
   "autoclose": false,
   "autocomplete": true,
   "bibliofile": "biblio.bib",
   "cite_by": "apalike",
   "current_citInitial": 1,
   "eqLabelWithNumbers": true,
   "eqNumInitial": 1,
   "hotkeys": {
    "equation": "Ctrl-E",
    "itemize": "Ctrl-I"
   },
   "labels_anchors": false,
   "latex_user_defs": false,
   "report_style_numbering": false,
   "user_envs_cfg": false
  },
  "toc": {
   "nav_menu": {},
   "number_sections": true,
   "sideBar": true,
   "skip_h1_title": false,
   "toc_cell": false,
   "toc_position": {},
   "toc_section_display": "block",
   "toc_window_display": false
  }
 },
 "nbformat": 4,
 "nbformat_minor": 1
}
