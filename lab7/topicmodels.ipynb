{
 "cells": [
  {
   "cell_type": "code",
   "execution_count": 1,
   "metadata": {},
   "outputs": [],
   "source": [
    "import string\n",
    "import numpy as np\n",
    "import pandas as pd\n",
    "import re\n",
    "from gensim.parsing.preprocessing import remove_stopwords\n",
    "import gensim\n",
    "from nltk.stem import LancasterStemmer\n",
    "import random\n",
    "from pprint import pprint"
   ]
  },
  {
   "cell_type": "markdown",
   "metadata": {},
   "source": [
    "### Load newsgroups corpus and preprocess.."
   ]
  },
  {
   "cell_type": "code",
   "execution_count": 2,
   "metadata": {},
   "outputs": [],
   "source": [
    "MAX_DOCS = 5000\n",
    "\n",
    "# Reads csv file and generates an index operation for each line\n",
    "df = pd.read_json('https://raw.githubusercontent.com/selva86/datasets/master/newsgroups.json')\n",
    "\n",
    "# Convert to list and sample...\n",
    "data = random.sample(df.content.values.tolist(), min(MAX_DOCS, len(df)))\n",
    "\n",
    "# Remove Emails\n",
    "data = [re.sub('\\S*@\\S*\\s?', '', sent) for sent in data]\n",
    "# Remove new line characters\n",
    "data = [re.sub('\\s+', ' ', sent) for sent in data]\n",
    "# Remove distracting single quotes\n",
    "data = [re.sub(\"\\'\", \"\", sent) for sent in data]\n",
    "\n",
    "# To lowercase\n",
    "data = [sent.lower() for sent in data]\n",
    "\n",
    "# filter out stop words & tokenize\n",
    "data = [gensim.utils.simple_preprocess(str(remove_stopwords(sent)), deacc=True) for sent in data]"
   ]
  },
  {
   "cell_type": "code",
   "execution_count": 3,
   "metadata": {},
   "outputs": [],
   "source": [
    "# stem\n",
    "data = [[LancasterStemmer().stem(x) for x in sent] for sent in data]"
   ]
  },
  {
   "cell_type": "code",
   "execution_count": 4,
   "metadata": {},
   "outputs": [
    {
     "name": "stdout",
     "output_type": "stream",
     "text": [
      "['from', 'kenne', 'alvin', 'subject', 're', 'ass', 'hel', 'org', 'univers', 'colorado', 'bould', 'lin', 'artic', 'writ', 'hav', 'acceiv', 'jes', 'savy', 'yo', 'tak', 'aw', 'chant', 'jehovah', 'wit', 'who', 'long', 'frequ', 'door', 'you', 'right', 'wrong', 'liv', 'good', 'lif', 'die', 'and', 'ceas', 'ex', 'right', 'wrong', 'die', 'suff', 'etern', 'damn', 'dont', 'mean', 'fun', 'point', 'lik', 'dirty', 'harry', 'said', 'youv', 'got', 'ask', 'yourself', 'feel', 'lucky', 'you', 'man', 'got', 'know', 'limit', 'dont', 'whosoev', 'wont', 'ridic', 'argu', 'christian', 'then', 'consid', 'switch', 'christianity', 'relig', 'off', 'fright', 'describ', 'hel', 'christians', 'think', 'view', 'strictly', 'ins', 'policy', 'know', 'believ', 'mess', 'lov', 'compass', 'oth', 'fai', 'bas', 'fear', 'hel', 'sound', 'lik', 'dysfunct', 'rel', 'god', 'lik', 'child', 'cring', 'fear', 'par', 'phys', 'viol', 'relig', 'concret', 'view', 'heav', 'hel', 'threats', 'persuas', 'wher', 'competit', 'envison', 'worst', 'hel', 'hard', 'nurt', 'ide', 'lov', 'neighb', 'yourself', 'rex', 'com', 'crit', 'welcom', 'ken']\n"
     ]
    }
   ],
   "source": [
    "print(data[0])"
   ]
  },
  {
   "cell_type": "code",
   "execution_count": 5,
   "metadata": {},
   "outputs": [
    {
     "name": "stdout",
     "output_type": "stream",
     "text": [
      "['from', 'scot', 'wood', 'subject', 're', 'western', 'digit', 'hd', 'info', 'nee', 'org', 'oakland', 'univers', 'rochest', 'michig', 'lin', 'nntp', 'post', 'host', 'vel', 'ac', 'oakland', 'edu', 'hol', 'ks', 'writ', 'my', 'western', 'digit', 'set', 'pin', 'back', 'anoth', 'hard', 'driv', 'set', 'jump', 'writ', 'right', 'on', 'circuit', 'board', 'wd', 'driv', 'ma', 'sl', 'wel', 'fig', 'jump', 'go', 'diff', 'problem', 'perplex', 'lik', 'wouldnt', 'know', 'driv', 'work', 'format', 'hardw', 'instal', 'problem', 'is', 'boot', 'sequ', 'want', 'pass', 'look', 'driv', 'goe', 'fin', 'bio', 'config', 'necess', 'driv', 'test', 'work', 'thing', 'com', 'driv', 'disk', 'pres', 'spin', 'insert', 'disk', 'driv', 'howev', 'work', 'fin', 'boot', 'ie', 'instal', 'softw', 'addit', 'help', 'welcom', 'swood', 'hunt', 'michig', 'dont', 'despair', 'clos', 'season', 'on', 'oposs', 'porcupin', 'weasel', 'red', 'squirrel', 'skunk', 'starl', 'fer', 'pigeon', 'engl', 'sparrow', 'ground', 'squirrel', 'woodchuck', 'trout', 'season', 'op', 'saturday', 'mon']\n"
     ]
    }
   ],
   "source": [
    "print(data[1])"
   ]
  },
  {
   "cell_type": "markdown",
   "metadata": {},
   "source": [
    "### Prepare corpus using GenSim "
   ]
  },
  {
   "cell_type": "code",
   "execution_count": 6,
   "metadata": {},
   "outputs": [],
   "source": [
    "import gensim.corpora as corpora\n",
    "\n",
    "# Create Dictionary of words\n",
    "id2word = corpora.Dictionary(data)\n",
    "\n",
    "# Term Document Frequency\n",
    "corpus = [id2word.doc2bow(text) for text in data]"
   ]
  },
  {
   "cell_type": "code",
   "execution_count": 7,
   "metadata": {},
   "outputs": [
    {
     "name": "stdout",
     "output_type": "stream",
     "text": [
      "[(0, 1), (1, 1), (2, 1), (3, 1), (4, 1), (5, 1), (6, 1), (7, 1), (8, 1), (9, 1), (10, 1), (11, 1), (12, 1), (13, 1), (14, 1), (15, 1), (16, 1), (17, 1), (18, 1), (19, 1), (20, 1), (21, 1), (22, 1), (23, 1), (24, 1), (25, 1), (26, 1), (27, 2), (28, 1), (29, 2), (30, 1), (31, 1), (32, 1), (33, 1), (34, 1), (35, 1), (36, 2), (37, 1), (38, 1), (39, 1), (40, 1), (41, 1), (42, 1), (43, 1), (44, 2), (45, 1), (46, 1), (47, 1), (48, 1), (49, 5), (50, 1), (51, 1), (52, 1), (53, 1), (54, 1), (55, 1), (56, 2), (57, 1), (58, 3), (59, 1), (60, 1), (61, 1), (62, 1), (63, 2), (64, 1), (65, 1), (66, 1), (67, 1), (68, 1), (69, 1), (70, 1), (71, 1), (72, 1), (73, 1), (74, 1), (75, 1), (76, 1), (77, 1), (78, 1), (79, 1), (80, 2), (81, 1), (82, 1), (83, 2), (84, 1), (85, 1), (86, 1), (87, 1), (88, 1), (89, 1), (90, 1), (91, 1), (92, 1), (93, 1), (94, 1), (95, 1), (96, 2), (97, 1), (98, 1), (99, 1), (100, 1), (101, 1), (102, 1), (103, 1), (104, 1), (105, 1), (106, 2), (107, 1), (108, 2), (109, 2), (110, 1)]\n"
     ]
    }
   ],
   "source": [
    "print(corpus[0])   # this shows a list of word,freq "
   ]
  },
  {
   "cell_type": "markdown",
   "metadata": {},
   "source": [
    "### show info"
   ]
  },
  {
   "cell_type": "code",
   "execution_count": 8,
   "metadata": {},
   "outputs": [
    {
     "name": "stdout",
     "output_type": "stream",
     "text": [
      "there are 36538 words and 5000 documents\n"
     ]
    }
   ],
   "source": [
    "M = len(id2word)\n",
    "N = len(corpus)\n",
    "print(f\"there are {len(id2word)} words and {len(corpus)} documents\")"
   ]
  },
  {
   "cell_type": "markdown",
   "metadata": {},
   "source": [
    "### show some words..."
   ]
  },
  {
   "cell_type": "code",
   "execution_count": 9,
   "metadata": {},
   "outputs": [
    {
     "name": "stdout",
     "output_type": "stream",
     "text": [
      "first words: acceiv\n",
      "first words: alvin\n",
      "first words: and\n",
      "first words: argu\n",
      "first words: artic\n",
      "first words: ask\n",
      "first words: ass\n",
      "first words: aw\n",
      "first words: bas\n",
      "first words: believ\n",
      "last words: hakim\n",
      "last words: jhsegal\n",
      "last words: midl\n",
      "last words: molotov\n",
      "last words: raajid\n",
      "last words: ramadh\n",
      "last words: riyad\n",
      "last words: rouhy\n",
      "last words: saamud\n",
      "last words: wiscon\n"
     ]
    }
   ],
   "source": [
    "for w in range(10):\n",
    "    print(f\"first words: {id2word[w]}\")\n",
    "for w in range(M-10,M):\n",
    "    print(f\"last words: {id2word[w]}\")"
   ]
  },
  {
   "cell_type": "markdown",
   "metadata": {},
   "source": [
    "# 1. LSA"
   ]
  },
  {
   "cell_type": "code",
   "execution_count": 10,
   "metadata": {},
   "outputs": [],
   "source": [
    "X = np.zeros([N,M])\n",
    "for d, doc in enumerate(corpus):\n",
    "    for (j, f) in doc:\n",
    "        X[d,j] = f"
   ]
  },
  {
   "cell_type": "markdown",
   "metadata": {},
   "source": [
    "### Now run SVD on matrix X"
   ]
  },
  {
   "cell_type": "code",
   "execution_count": 11,
   "metadata": {},
   "outputs": [],
   "source": [
    "from scipy import linalg\n",
    "U,sigma,V = linalg.svd(X, full_matrices=False)\n"
   ]
  },
  {
   "cell_type": "code",
   "execution_count": 12,
   "metadata": {},
   "outputs": [
    {
     "name": "stdout",
     "output_type": "stream",
     "text": [
      "(5000, 2) (2, 2) (2, 36538)\n"
     ]
    }
   ],
   "source": [
    "K = 2\n",
    "U2 = U[:, 0:K]\n",
    "V2 = V[0:K, :]\n",
    "sigma2 = np.diag(sigma[0:K])\n",
    "print(U2.shape, sigma2.shape, V2.shape)\n"
   ]
  },
  {
   "cell_type": "code",
   "execution_count": 13,
   "metadata": {},
   "outputs": [
    {
     "data": {
      "text/plain": [
       "[<matplotlib.lines.Line2D at 0x7f96b2d90940>]"
      ]
     },
     "execution_count": 13,
     "metadata": {},
     "output_type": "execute_result"
    },
    {
     "data": {
      "image/png": "[encoded data removed]",
      "text/plain": [
       "<Figure size 432x288 with 1 Axes>"
      ]
     },
     "metadata": {
      "needs_background": "light"
     },
     "output_type": "display_data"
    }
   ],
   "source": [
    "from matplotlib import pyplot\n",
    "import pylab\n",
    "from random import sample\n",
    "\n",
    "pyplot.title(\"LSA\")\n",
    "pyplot.xlabel(u'x')\n",
    "pyplot.ylabel(u'y')\n",
    "\n",
    "for i in sample(range(len(U2)), 20):\n",
    "    pylab.text(U2[i][0], U2[i][1],  id2word[i], fontsize=10)\n",
    "x = U2.T[0]\n",
    "y = U2.T[1]\n",
    "pylab.plot(x, y, '.')\n",
    "\n",
    "for i in sample(range(len(V2[0])), 20):\n",
    "    pylab.text(V2[0][i], V2[1][i], ('D%d' %(i+1)), fontsize=10)\n",
    "x = V[0]\n",
    "y = V[1]\n",
    "pylab.plot(x, y, 'x')\n"
   ]
  },
  {
   "cell_type": "markdown",
   "metadata": {},
   "source": [
    "# pLSA"
   ]
  },
  {
   "cell_type": "code",
   "execution_count": 14,
   "metadata": {},
   "outputs": [],
   "source": [
    "K=20"
   ]
  },
  {
   "cell_type": "markdown",
   "metadata": {},
   "source": [
    "### set up counts"
   ]
  },
  {
   "cell_type": "code",
   "execution_count": 15,
   "metadata": {},
   "outputs": [],
   "source": [
    "nd = np.zeros([N])   # counts per document\n",
    "n = np.zeros([N,M])  # counts per document, word\n",
    "for d, doc in enumerate(corpus):\n",
    "    for (j,f) in doc:\n",
    "        n[d,j] = f\n",
    "        nd[d] += f"
   ]
  },
  {
   "cell_type": "markdown",
   "metadata": {},
   "source": [
    "### initialize parameters randomly"
   ]
  },
  {
   "cell_type": "code",
   "execution_count": 16,
   "metadata": {},
   "outputs": [],
   "source": [
    "def init_rand():\n",
    "    # theta[d, k] : p(z=k|d)\n",
    "    theta = np.random.rand(N, K)\n",
    "    d_sums = theta.sum(axis = 1)\n",
    "    theta /= d_sums[:, np.newaxis]\n",
    "\n",
    "    # beta[k, w] : p(w|z=k)\n",
    "    beta = np.random.rand(K, M)\n",
    "    w_sums = beta.sum(axis = 1)\n",
    "    beta /= w_sums[:, np.newaxis]\n",
    "\n",
    "    return theta, beta"
   ]
  },
  {
   "cell_type": "markdown",
   "metadata": {},
   "source": [
    "### E-step"
   ]
  },
  {
   "cell_type": "code",
   "execution_count": 17,
   "metadata": {},
   "outputs": [],
   "source": [
    "def EStep(theta, beta):\n",
    "    \n",
    "    # post[k,d,w] : p(z=k|d,w) posterior of latent z!    \n",
    "    _post = np.full((K,N,M), 1/K)\n",
    "    \n",
    "    for d, doc in enumerate(corpus):\n",
    "        for j,_ in doc:\n",
    "            for k in range(0, K):\n",
    "                _post[k, d, j] =  theta[d, k]*beta[k, j]\n",
    "    # now, we normalize using first axis..\n",
    "    k_sums = _post.sum(axis = 0)\n",
    "    _post /= k_sums[np.newaxis,:,:]\n",
    "\n",
    "    return _post"
   ]
  },
  {
   "cell_type": "markdown",
   "metadata": {},
   "source": [
    "### M-step"
   ]
  },
  {
   "cell_type": "code",
   "execution_count": 18,
   "metadata": {},
   "outputs": [],
   "source": [
    "def MStep(post):\n",
    "    \n",
    "    # re-estimate theta\n",
    "    _theta = np.zeros([N, K])\n",
    "    for k in range(0, K):\n",
    "        for d, doc in enumerate(corpus):\n",
    "            for j, f in doc:\n",
    "                _theta[d,k] += f * post[k,d,j]\n",
    "        for d in range(0,N):\n",
    "            _theta[d,k] /= nd[d]\n",
    "\n",
    "    # re-estimate beta\n",
    "    _beta = np.zeros([K, M])\n",
    "    for k in range(0,K):\n",
    "        for d, doc in enumerate(corpus):\n",
    "            for j, f in doc:\n",
    "                _beta[k,j] += f * post[k,d,j]\n",
    "    # now normalize by axis = 1\n",
    "    w_sums = _beta.sum(axis = 1)\n",
    "    _beta /= w_sums[:, np.newaxis]\n",
    "    \n",
    "    return _theta, _beta"
   ]
  },
  {
   "cell_type": "markdown",
   "metadata": {},
   "source": [
    "### Log-likelihood"
   ]
  },
  {
   "cell_type": "code",
   "execution_count": 19,
   "metadata": {},
   "outputs": [],
   "source": [
    "def LogLikelihood(theta, beta):\n",
    "    tmp = 0\n",
    "    for d, doc in enumerate(corpus):\n",
    "        for j, f in doc:\n",
    "            tmp += f * np.log(theta[d,:].dot(beta[:,j]))\n",
    "    print(f'loglikelihood: {tmp:.1f}')"
   ]
  },
  {
   "cell_type": "markdown",
   "metadata": {},
   "source": [
    "### EM algorithm"
   ]
  },
  {
   "cell_type": "code",
   "execution_count": null,
   "metadata": {},
   "outputs": [
    {
     "name": "stdout",
     "output_type": "stream",
     "text": [
      "loglikelihood: -8118683.6\n",
      "iteration 0 took 1049.18 s.\n",
      "loglikelihood: -6223760.8\n",
      "iteration 1 took 1422.91 s.\n",
      "loglikelihood: -6194849.2\n"
     ]
    }
   ],
   "source": [
    "import time\n",
    "\n",
    "theta, beta = init_rand()\n",
    "LogLikelihood(theta,beta)\n",
    "start = time.time()\n",
    "for i in range(0, 10):\n",
    "    t = time.time()\n",
    "    post = EStep(theta,beta)\n",
    "    theta,beta = MStep(post)\n",
    "    elapsed = time.time() - t\n",
    "    \n",
    "    print(f\"iteration {i} took {elapsed:.2f} s.\")\n",
    "    LogLikelihood(theta,beta)\n",
    "print(f\"EM took {time.time()-start:.2f} s.\")\n"
   ]
  },
  {
   "cell_type": "markdown",
   "metadata": {},
   "source": [
    "### inspect topics"
   ]
  },
  {
   "cell_type": "code",
   "execution_count": null,
   "metadata": {},
   "outputs": [],
   "source": [
    "all_topics = []\n",
    "for k in range(K):\n",
    "    topic = []\n",
    "    ids = (-beta[k, :]).argsort()\n",
    "    topic = [(id2word[j], beta[k,j]) for j in ids]\n",
    "    all_topics.append(topic[:20])\n",
    "\n",
    "# print out topics:\n",
    "for k, topic in enumerate(all_topics):\n",
    "    print()\n",
    "    print(f'topic {k+1}: {topic}')"
   ]
  },
  {
   "cell_type": "markdown",
   "metadata": {},
   "source": [
    "# 3. LDA"
   ]
  },
  {
   "cell_type": "code",
   "execution_count": null,
   "metadata": {},
   "outputs": [],
   "source": [
    "# Build LDA model\n",
    "lda_model = gensim.models.ldamodel.LdaModel(corpus=corpus,\n",
    "                                           id2word=id2word,\n",
    "                                           num_topics=20, \n",
    "                                           random_state=100,\n",
    "                                           update_every=1,\n",
    "                                           chunksize=100,\n",
    "                                           passes=10,\n",
    "                                           alpha='auto',\n",
    "                                           per_word_topics=True)"
   ]
  },
  {
   "cell_type": "code",
   "execution_count": null,
   "metadata": {},
   "outputs": [],
   "source": [
    "# Print the Keyword in the 10 topics\n",
    "pprint(lda_model.print_topics())\n",
    "doc_lda = lda_model[corpus]"
   ]
  },
  {
   "cell_type": "code",
   "execution_count": null,
   "metadata": {},
   "outputs": [],
   "source": []
  },
  {
   "cell_type": "code",
   "execution_count": null,
   "metadata": {},
   "outputs": [],
   "source": []
  },
  {
   "cell_type": "code",
   "execution_count": null,
   "metadata": {},
   "outputs": [],
   "source": []
  }
 ],
 "metadata": {
  "kernelspec": {
   "display_name": "Python 3",
   "language": "python",
   "name": "python3"
  },
  "language_info": {
   "codemirror_mode": {
    "name": "ipython",
    "version": 3
   },
   "file_extension": ".py",
   "mimetype": "text/x-python",
   "name": "python",
   "nbconvert_exporter": "python",
   "pygments_lexer": "ipython3",
   "version": "3.6.10"
  }
 },
 "nbformat": 4,
 "nbformat_minor": 4
}
